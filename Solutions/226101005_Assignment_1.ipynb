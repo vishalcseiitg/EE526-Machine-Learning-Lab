{
 "cells": [
  {
   "cell_type": "markdown",
   "id": "4b75304d",
   "metadata": {},
   "source": [
    "Name - Vishal Kumar\n",
    "Roll Number - 226101005"
   ]
  },
  {
   "cell_type": "markdown",
   "id": "badc85dd",
   "metadata": {},
   "source": [
    "Question 1"
   ]
  },
  {
   "cell_type": "code",
   "execution_count": 2,
   "id": "5bc16817",
   "metadata": {},
   "outputs": [
    {
     "name": "stdout",
     "output_type": "stream",
     "text": [
      "Hello World!\n"
     ]
    }
   ],
   "source": [
    "print(\"Hello World!\")"
   ]
  },
  {
   "cell_type": "markdown",
   "id": "ead81dea",
   "metadata": {},
   "source": [
    "Question 2"
   ]
  },
  {
   "cell_type": "code",
   "execution_count": 3,
   "id": "3a15f676",
   "metadata": {},
   "outputs": [
    {
     "name": "stdout",
     "output_type": "stream",
     "text": [
      "Enter a: 5\n",
      "Enter b: 3\n",
      "c = 8.0\n",
      "d = 2.0\n",
      "e = 15.0\n",
      "f = 1.6666666666666667\n",
      "g = 2.0\n"
     ]
    }
   ],
   "source": [
    "# Getting the input values in a and b\n",
    "\n",
    "a = float(input(\"Enter a: \"))\n",
    "b = float(input(\"Enter b: \"))\n",
    "\n",
    "# Performing the operations given in the question\n",
    "\n",
    "c = a + b\n",
    "d = a - b\n",
    "e = a * b\n",
    "f = a / b\n",
    "g = a % b\n",
    "\n",
    "# Printing the results\n",
    "\n",
    "print(\"c =\", c)\n",
    "print(\"d =\", d)\n",
    "print(\"e =\", e)\n",
    "print(\"f =\", f)\n",
    "print(\"g =\", g)"
   ]
  },
  {
   "cell_type": "markdown",
   "id": "94e6ea49",
   "metadata": {},
   "source": [
    "Question 3"
   ]
  },
  {
   "cell_type": "code",
   "execution_count": 6,
   "id": "a2b795db",
   "metadata": {},
   "outputs": [
    {
     "name": "stdout",
     "output_type": "stream",
     "text": [
      "Enter the number: 5\n",
      "The factorial of 5 is 120\n"
     ]
    }
   ],
   "source": [
    "#getting the input from the user \n",
    "\n",
    "fact_num = int(input(\"Enter the number: \"))\n",
    "\n",
    "#checking condition if any negative number given\n",
    "\n",
    "if fact_num <0:\n",
    "    \n",
    "    print(\"Invalid Number Given\")\n",
    "    \n",
    "else:\n",
    "\n",
    "    count = 1;\n",
    "    for i in range(1,fact_num+1):\n",
    "        count = count * i\n",
    "        \n",
    "    print(\"The factorial of\",fact_num, \"is\",count) #printing the result"
   ]
  },
  {
   "cell_type": "markdown",
   "id": "686a05fa",
   "metadata": {},
   "source": [
    "Question 4"
   ]
  },
  {
   "cell_type": "code",
   "execution_count": 1,
   "id": "6530bdb1",
   "metadata": {},
   "outputs": [
    {
     "name": "stdout",
     "output_type": "stream",
     "text": [
      "Enter the lower bound of the interval: 5\n",
      "Enter the upper bound of the interval: 10\n",
      "5\n",
      "7\n"
     ]
    }
   ],
   "source": [
    "#make a function to print prime numbers in the interval given by the user\n",
    "\n",
    "def print_primes():\n",
    "    \n",
    "    # Get the intervals as user input\n",
    "    \n",
    "    a = int(input(\"Enter the lower bound of the interval: \"))\n",
    "    b = int(input(\"Enter the upper bound of the interval: \"))\n",
    "    \n",
    "    # Iterate over the range of integers from a to b\n",
    "    \n",
    "    for num in range(a, b+1):\n",
    "        \n",
    "        # Let us assume that the number is prime\n",
    "        \n",
    "        is_prime = True #introducing the flag\n",
    "        \n",
    "        # Check if the number is prime\n",
    "        \n",
    "        for i in range(2, num):\n",
    "            if num % i == 0:\n",
    "                \n",
    "                # The number is not prime\n",
    "                \n",
    "                is_prime = False\n",
    "                break\n",
    "        \n",
    "        # If the number is prime, print it\n",
    "        \n",
    "        if is_prime:\n",
    "            print(num)\n",
    "\n",
    "# Calling the function\n",
    "\n",
    "print_primes()"
   ]
  },
  {
   "cell_type": "markdown",
   "id": "7e1db315",
   "metadata": {},
   "source": [
    "Question 5"
   ]
  },
  {
   "cell_type": "code",
   "execution_count": 2,
   "id": "94c8152c",
   "metadata": {},
   "outputs": [
    {
     "name": "stdout",
     "output_type": "stream",
     "text": [
      "Enter a: 40\n",
      "Enter b: 20\n",
      "The LCM of 40 and 20 is 40\n"
     ]
    }
   ],
   "source": [
    "# Get the input values from the user\n",
    "\n",
    "a = int(input(\"Enter a: \"))\n",
    "b = int(input(\"Enter b: \"))\n",
    "\n",
    "# Finding the LCM\n",
    "lcm = a\n",
    "while lcm % b != 0:\n",
    "    lcm += a\n",
    "\n",
    "# Printing the result\n",
    "\n",
    "print(\"The LCM of\", a, \"and\", b, \"is\", lcm)"
   ]
  },
  {
   "cell_type": "markdown",
   "id": "c6f14634",
   "metadata": {},
   "source": [
    "Question 6"
   ]
  },
  {
   "cell_type": "code",
   "execution_count": 3,
   "id": "33aa4f52",
   "metadata": {},
   "outputs": [
    {
     "name": "stdout",
     "output_type": "stream",
     "text": [
      "Original list: [93, 26, 64, 86, 38, 82, 21, 40, 88, 94, 86, 82, 85, 92, 88]\n",
      "Sorted list: [94, 93, 92, 88, 88, 86, 86, 85, 82, 82, 64, 40, 38, 26, 21]\n",
      "Sorted indices: [0, 1, 2, 3, 3, 5, 5, 7, 8, 8, 10, 11, 12, 13, 14]\n"
     ]
    }
   ],
   "source": [
    "import random\n",
    "\n",
    "# Create a list of length 15 with random integers\n",
    "n = 15\n",
    "our_list = [random.randint(1, 100) for _ in range(n)]\n",
    "\n",
    "# Print the original list\n",
    "print(\"Original list:\", our_list)\n",
    "\n",
    "# Sort the list in descending order using bubble sort\n",
    "for i in range(n-1):\n",
    "    for j in range(n-1-i):\n",
    "        if our_list[j] < our_list[j+1]:\n",
    "            our_list[j], our_list[j+1] = our_list[j+1], our_list[j]\n",
    "\n",
    "# Print the sorted list\n",
    "print(\"Sorted list:\", our_list)\n",
    "\n",
    "# Print the indices of the sorted elements\n",
    "print(\"Sorted indices:\", [our_list.index(x) for x in sorted(our_list, reverse=True)])\n"
   ]
  },
  {
   "cell_type": "markdown",
   "id": "0018dad8",
   "metadata": {},
   "source": [
    "Question 7"
   ]
  },
  {
   "cell_type": "code",
   "execution_count": 4,
   "id": "42709a25",
   "metadata": {},
   "outputs": [
    {
     "name": "stdout",
     "output_type": "stream",
     "text": [
      "Original array: [45 85 96 37 59 42 13  3 23 93 69 54 22 74 71]\n",
      "Sorted array: [ 3 13 22 23 37 42 45 54 59 69 71 74 85 93 96]\n",
      "Sorted indices: [0, 1, 2, 3, 4, 5, 6, 7, 8, 9, 10, 11, 12, 13, 14]\n"
     ]
    }
   ],
   "source": [
    "import numpy as np\n",
    "import random\n",
    "\n",
    "# Create a NumPy array of length 15 with random integers\n",
    "n = 15\n",
    "our_arr = np.array([random.randint(1, 100) for _ in range(n)])\n",
    "\n",
    "# Print the original array\n",
    "print(\"Original array:\", our_arr)\n",
    "\n",
    "# Sort the array in ascending order using bubble sort\n",
    "for i in range(n-1):\n",
    "    for j in range(n-1-i):\n",
    "        if our_arr[j] > our_arr[j+1]:\n",
    "            our_arr[j], our_arr[j+1] = our_arr[j+1],our_arr[j]\n",
    "\n",
    "# Print the sorted array\n",
    "print(\"Sorted array:\", our_arr)\n",
    "\n",
    "# Print the indices of the sorted elements\n",
    "print(\"Sorted indices:\", [np.where(our_arr == x)[0][0] for x in sorted(our_arr)])"
   ]
  },
  {
   "cell_type": "markdown",
   "id": "75644d7f",
   "metadata": {},
   "source": [
    "Question 8"
   ]
  },
  {
   "cell_type": "code",
   "execution_count": 5,
   "id": "a64943c2",
   "metadata": {},
   "outputs": [
    {
     "name": "stdout",
     "output_type": "stream",
     "text": [
      "Enter the number of rows: 5\n",
      "Enter the number of columns: 2\n",
      "[[-0.4250477   1.7626227 ]\n",
      " [-0.38144879 -0.91617621]\n",
      " [ 0.76458943  2.5826262 ]\n",
      " [ 1.33725965 -0.99897524]\n",
      " [ 1.41953114  2.16218479]]\n"
     ]
    }
   ],
   "source": [
    "import numpy as np\n",
    "import random\n",
    "\n",
    "# Getting the number of rows and columns as user input\n",
    "\n",
    "m = int(input(\"Enter the number of rows: \"))\n",
    "n = int(input(\"Enter the number of columns: \"))\n",
    "\n",
    "# Creating a NumPy array with random values in the range [-2, 5]\n",
    "\n",
    "X = np.array([[random.uniform(-2, 5) for _ in range(n)] for _ in range(m)]) \n",
    "\n",
    "#random.uniform returns a floating number between a and b including a and b\n",
    "\n",
    "# Print the array\n",
    "print(X)"
   ]
  },
  {
   "cell_type": "markdown",
   "id": "3f64bd7b",
   "metadata": {},
   "source": [
    "Question 9"
   ]
  },
  {
   "cell_type": "code",
   "execution_count": 1,
   "id": "8d8a2a85",
   "metadata": {},
   "outputs": [
    {
     "name": "stdout",
     "output_type": "stream",
     "text": [
      "Enter the value of m: 2\n",
      "Enter the value of n: 3\n",
      "Enter the value of p: 5\n",
      "The resultant matrix after multiplication is: \n",
      "[[0.6306007  1.39754924 1.6598924  0.78565358 1.08669864]\n",
      " [0.47556173 1.26435117 1.41982395 0.80096133 1.10039423]]\n"
     ]
    }
   ],
   "source": [
    "import numpy as np\n",
    "\n",
    "# Generate random matrices M1 and M2\n",
    "\n",
    "np.random.seed(0)\n",
    "\n",
    "m = int(input(\"Enter the value of m: \"))\n",
    "n = int(input(\"Enter the value of n: \"))\n",
    "p = int(input(\"Enter the value of p: \"))\n",
    "\n",
    "Matrix_1 = np.random.rand(m, n)\n",
    "Matrix_2 = np.random.rand(n, p)\n",
    "\n",
    "# Initialize an empty matrix to store the result\n",
    "\n",
    "result_without_built_in_func = np.zeros((m, p))\n",
    "\n",
    "# Multiply the matrices\n",
    "\n",
    "for i in range(m):\n",
    "    for j in range(p):\n",
    "        for k in range(n):\n",
    "            result_without_built_in_func[i][j] += Matrix_1[i][k] * Matrix_2[k][j]\n",
    "\n",
    "print(\"The resultant matrix after multiplication is: \")\n",
    "print(result_without_built_in_func)"
   ]
  },
  {
   "cell_type": "code",
   "execution_count": 18,
   "id": "ff1683e7",
   "metadata": {},
   "outputs": [
    {
     "name": "stdout",
     "output_type": "stream",
     "text": [
      "Enter the value of m: 5\n",
      "Enter the value of n: 4\n",
      "Enter the value of p: 3\n",
      "The resultant matrix after multiplication is: \n",
      "[[1.40765556 1.23674135 1.44734879]\n",
      " [1.35124945 1.06425871 1.52762402]\n",
      " [1.57515433 1.70331083 1.51273141]\n",
      " [1.32466647 0.65358819 0.95897807]\n",
      " [1.14198243 1.07990243 1.62181383]]\n"
     ]
    }
   ],
   "source": [
    "import numpy as np\n",
    "\n",
    "# Generate random matrices M1 and M2\n",
    "np.random.seed(0)\n",
    "\n",
    "m = int(input(\"Enter the value of m: \"))\n",
    "n = int(input(\"Enter the value of n: \"))\n",
    "p = int(input(\"Enter the value of p: \"))\n",
    "\n",
    "Matrix_1 = np.random.rand(m, n)\n",
    "Matrix_2 = np.random.rand(n, p)\n",
    "\n",
    "# Using the built-in matrix multiplication function\n",
    "\n",
    "result_with_built_in_func = np.matmul(Matrix_1, Matrix_2)\n",
    "\n",
    "print(\"The resultant matrix after multiplication is: \")\n",
    "print(result_with_built_in_func)\n"
   ]
  },
  {
   "cell_type": "code",
   "execution_count": 19,
   "id": "7677ba45",
   "metadata": {},
   "outputs": [
    {
     "name": "stdout",
     "output_type": "stream",
     "text": [
      "True\n"
     ]
    }
   ],
   "source": [
    "# Compare the result obtained with the built-in function\n",
    "\n",
    "built_in_result = np.matmul(Matrix_1, Matrix_2)\n",
    "\n",
    "#np.allclose returns True if two arrays are element-wise equal with given constraints\n",
    "\n",
    "print(np.allclose(result_without_built_in_func, built_in_result))"
   ]
  },
  {
   "cell_type": "markdown",
   "id": "59f6b96f",
   "metadata": {},
   "source": [
    "Question 10"
   ]
  },
  {
   "cell_type": "code",
   "execution_count": 6,
   "id": "bcc9a04c",
   "metadata": {},
   "outputs": [],
   "source": [
    "import numpy as np\n",
    "import csv\n",
    "\n",
    "# Set the number of points\n",
    "n = 100\n",
    "\n",
    "# Generate the random points\n",
    "points = np.random.rand(n, 10)\n",
    "\n",
    "# Write the points to a CSV file\n",
    "with open(\"points.csv\", \"w\", newline=\"\") as f:\n",
    "    writer = csv.writer(f)\n",
    "    writer.writerows(points)"
   ]
  },
  {
   "cell_type": "code",
   "execution_count": 7,
   "id": "eea0cee3",
   "metadata": {},
   "outputs": [],
   "source": [
    "import pandas as pd\n",
    "\n",
    "df = pd.DataFrame(points)\n",
    "df.to_csv(\"points.csv\", index=False)"
   ]
  },
  {
   "cell_type": "markdown",
   "id": "f640c54b",
   "metadata": {},
   "source": [
    "Question 11"
   ]
  },
  {
   "cell_type": "code",
   "execution_count": 8,
   "id": "0b0ac005",
   "metadata": {},
   "outputs": [
    {
     "name": "stdout",
     "output_type": "stream",
     "text": [
      "           0         1         2         3         4         5         6  \\\n",
      "0   0.548876  0.081689  0.982417  0.285553  0.998896  0.892558  0.116735   \n",
      "1   0.827014  0.094910  0.625110  0.125594  0.707721  0.618652  0.707262   \n",
      "2   0.711636  0.414744  0.840862  0.606747  0.133255  0.339549  0.000089   \n",
      "3   0.222550  0.199575  0.676614  0.955839  0.511765  0.029532  0.977156   \n",
      "4   0.870763  0.799323  0.155984  0.795098  0.602706  0.379640  0.947600   \n",
      "..       ...       ...       ...       ...       ...       ...       ...   \n",
      "95  0.207370  0.463311  0.506779  0.027534  0.472555  0.399763  0.208171   \n",
      "96  0.133101  0.612875  0.402569  0.800039  0.745683  0.950276  0.584636   \n",
      "97  0.368059  0.892017  0.343285  0.536035  0.674172  0.711318  0.387285   \n",
      "98  0.761338  0.200229  0.306625  0.776615  0.407962  0.448872  0.104439   \n",
      "99  0.359939  0.119812  0.101813  0.936703  0.952956  0.776080  0.079953   \n",
      "\n",
      "           7         8         9  \n",
      "0   0.568863  0.805466  0.165676  \n",
      "1   0.003266  0.686868  0.173255  \n",
      "2   0.215442  0.269051  0.995053  \n",
      "3   0.512725  0.847631  0.567763  \n",
      "4   0.039185  0.259820  0.514415  \n",
      "..       ...       ...       ...  \n",
      "95  0.816642  0.366600  0.818251  \n",
      "96  0.030942  0.813982  0.299238  \n",
      "97  0.381052  0.874098  0.608645  \n",
      "98  0.091508  0.449884  0.481808  \n",
      "99  0.096286  0.617236  0.357514  \n",
      "\n",
      "[100 rows x 10 columns]\n"
     ]
    }
   ],
   "source": [
    "import pandas as pd\n",
    "\n",
    "# Read the CSV file\n",
    "df = pd.read_csv('points.csv')\n",
    "\n",
    "print(df)"
   ]
  },
  {
   "cell_type": "code",
   "execution_count": 20,
   "id": "84e1751a",
   "metadata": {},
   "outputs": [
    {
     "name": "stdout",
     "output_type": "stream",
     "text": [
      "Enter the number of observations: 2\n",
      "Covariance matrix: \n",
      " [[ 0.02110796  0.06060014 -0.04569764  0.00626927 -0.06123985 -0.01212777\n",
      "   0.01957345  0.02461405  0.03357285 -0.0339407 ]\n",
      " [ 0.06060014  0.17398065 -0.13119616  0.01799883 -0.17581724 -0.03481837\n",
      "   0.05619462  0.07066599  0.09638634 -0.09744243]\n",
      " [-0.04569764 -0.13119616  0.09893303 -0.01357264  0.1325811   0.026256\n",
      "  -0.04237551 -0.05328815 -0.07268347  0.07347986]\n",
      " [ 0.00626927  0.01799883 -0.01357264  0.00186203 -0.01818883 -0.00360207\n",
      "   0.00581351  0.00731061  0.00997146 -0.01008072]\n",
      " [-0.06123985 -0.17581724  0.1325811  -0.01818883  0.17767321  0.03518592\n",
      "  -0.05678783 -0.07141196 -0.09740382  0.09847106]\n",
      " [-0.01212777 -0.03481837  0.026256   -0.00360207  0.03518592  0.00696812\n",
      "  -0.01124611 -0.01414223 -0.01928959  0.01950094]\n",
      " [ 0.01957345  0.05619462 -0.04237551  0.00581351 -0.05678783 -0.01124611\n",
      "   0.0181505   0.02282466  0.03113216 -0.03147327]\n",
      " [ 0.02461405  0.07066599 -0.05328815  0.00731061 -0.07141196 -0.01414223\n",
      "   0.02282466  0.02870252  0.03914939 -0.03957834]\n",
      " [ 0.03357285  0.09638634 -0.07268347  0.00997146 -0.09740382 -0.01928959\n",
      "   0.03113216  0.03914939  0.05339862 -0.0539837 ]\n",
      " [-0.0339407  -0.09744243  0.07347986 -0.01008072  0.09847106  0.01950094\n",
      "  -0.03147327 -0.03957834 -0.0539837   0.05457519]]\n"
     ]
    }
   ],
   "source": [
    "import numpy as np\n",
    "\n",
    "# Function to calculate covariance matrix\n",
    "\n",
    "def cov_matrix(data):\n",
    "    # Number of rows in the dataset\n",
    "    \n",
    "    n = data.shape[0]\n",
    "    \n",
    "    # Subtracting the mean from the data\n",
    "    \n",
    "    data_mean = np.mean(data, axis=0)\n",
    "    data_centered = data - data_mean\n",
    "    \n",
    "    # Calculating the covariance matrix\n",
    "    \n",
    "    cov_mat = (1 / (n - 1)) * np.dot(data_centered.T, data_centered)\n",
    "    \n",
    "    return cov_mat\n",
    "\n",
    "# Taking input from the user\n",
    "\n",
    "n = int(input(\"Enter the number of observations: \"))\n",
    "\n",
    "# Creating a dummy dataset with n observations\n",
    "\n",
    "data = np.random.rand(n, 10)\n",
    "\n",
    "# Calculating the covariance matrix\n",
    "\n",
    "result = cov_matrix(data)\n",
    "print(\"Covariance matrix: \\n\", result)\n"
   ]
  },
  {
   "cell_type": "markdown",
   "id": "680dbf3e",
   "metadata": {},
   "source": [
    "Question 13"
   ]
  },
  {
   "cell_type": "code",
   "execution_count": 29,
   "id": "023e5c2f",
   "metadata": {},
   "outputs": [
    {
     "data": {
      "image/png": "[encoded data removed]",
      "text/plain": [
       "<Figure size 432x288 with 1 Axes>"
      ]
     },
     "metadata": {
      "needs_background": "light"
     },
     "output_type": "display_data"
    }
   ],
   "source": [
    "import matplotlib.pyplot as plt\n",
    "import numpy as np\n",
    "x = np.linspace(-10,10,50)\n",
    "y = 3*x+2\n",
    "plt.plot(x, y, '-o', label='y=3x+2')\n",
    "plt.title('Graph of y=3x+2')\n",
    "plt.xlabel('x', color='#1C2833')\n",
    "plt.ylabel('y', color='#1C2833')\n",
    "plt.legend(loc='upper left')\n",
    "plt.grid()\n",
    "plt.show()"
   ]
  },
  {
   "cell_type": "markdown",
   "id": "6977ff98",
   "metadata": {},
   "source": [
    "Question 14"
   ]
  },
  {
   "cell_type": "code",
   "execution_count": 31,
   "id": "5ab6cc77",
   "metadata": {},
   "outputs": [
    {
     "name": "stdout",
     "output_type": "stream",
     "text": [
      "[[ 6.56838347 -6.96752343]\n",
      " [ 6.50914004 -3.36343386]\n",
      " [ 6.84498547 -5.41333429]\n",
      " [ 3.8306636  -5.53438792]\n",
      " [ 5.89711818 -3.09216365]\n",
      " [ 1.93334641 -5.76696095]\n",
      " [ 5.06531683 -4.35269386]\n",
      " [ 7.32142219 -3.04944229]\n",
      " [ 8.45364519 -3.60980577]\n",
      " [ 3.07532039 -3.12153865]\n",
      " [ 2.73732629 -5.18951235]\n",
      " [ 6.38362895 -6.99114867]\n",
      " [ 6.73010134 -3.49092066]\n",
      " [ 1.8531292  -5.42437373]\n",
      " [ 5.1998499  -5.24096491]\n",
      " [ 2.35970385 -6.73451552]\n",
      " [ 1.97519107 -4.85842436]\n",
      " [ 6.71689858 -5.14839359]\n",
      " [ 7.6314023  -3.14908911]\n",
      " [ 5.62066111 -5.21888749]\n",
      " [ 5.96184447 -5.35595115]\n",
      " [ 5.55193882 -5.41533024]\n",
      " [ 4.0046971  -4.02326766]\n",
      " [ 8.51198472 -3.64461327]\n",
      " [ 2.81453727 -5.61365534]\n",
      " [ 6.143463   -6.39254911]\n",
      " [ 0.44251971 -5.34371077]\n",
      " [ 6.72627139 -3.35759755]\n",
      " [ 2.44157034 -5.80452706]\n",
      " [ 1.88732211 -3.48512311]\n",
      " [ 7.67465763 -4.9158348 ]\n",
      " [ 1.63181706 -4.018904  ]\n",
      " [ 1.09569692 -4.67077452]\n",
      " [ 4.20233536 -3.85763017]\n",
      " [ 9.00675239 -3.65064243]\n",
      " [ 3.10195498 -4.92283457]\n",
      " [ 4.15953315 -6.34372524]\n",
      " [ 3.07874098 -2.77284515]\n",
      " [ 2.9418088  -5.73047945]\n",
      " [ 1.54840703 -6.47927862]\n",
      " [ 2.55264517 -3.07688972]\n",
      " [ 2.06451411 -3.5123682 ]\n",
      " [ 1.15561314 -6.41360514]\n",
      " [ 7.42898292 -6.51999623]\n",
      " [ 2.86329547 -6.6662921 ]\n",
      " [ 1.72696686 -5.09223323]\n",
      " [ 1.09683062 -5.89151191]\n",
      " [ 4.2659391  -7.37725942]\n",
      " [ 3.88333166 -7.02938782]\n",
      " [ 4.93578531 -3.37130906]\n",
      " [ 6.01227758 -3.32706809]\n",
      " [ 2.37972543 -3.69036744]\n",
      " [ 8.90764346 -3.46937924]\n",
      " [ 1.9172411  -6.1476133 ]\n",
      " [ 6.16182991 -5.57863412]\n",
      " [ 7.03407031 -5.7346252 ]\n",
      " [ 1.54425425 -5.93655078]\n",
      " [ 2.07512734 -3.55765806]\n",
      " [ 2.73348737 -3.06434228]\n",
      " [ 1.65545613 -4.17020041]\n",
      " [ 7.00633345 -3.2909213 ]\n",
      " [ 5.66669339 -5.11599318]\n",
      " [ 6.21882391 -4.85629244]\n",
      " [ 4.69384355 -3.70274874]\n",
      " [ 1.78200955 -6.64413976]\n",
      " [ 4.31842651 -5.89626042]\n",
      " [ 7.71602807 -4.7803925 ]\n",
      " [ 7.66669301 -6.16814804]\n",
      " [ 3.6859892  -6.40360307]\n",
      " [ 7.89037891 -6.77879949]\n",
      " [ 8.40016698 -4.19211176]\n",
      " [ 6.27755716 -2.9750884 ]\n",
      " [ 7.48722306 -4.69439536]\n",
      " [ 8.36547181 -6.10974881]\n",
      " [ 5.46950062 -6.0319159 ]\n",
      " [ 5.02509397 -7.35818533]\n",
      " [ 5.592483   -3.12858613]\n",
      " [ 7.04732194 -4.38515839]\n",
      " [ 8.2426647  -4.46129076]\n",
      " [ 4.87764559 -7.43341943]\n",
      " [ 8.1810105  -5.79697678]\n",
      " [ 1.52047025 -3.57970693]\n",
      " [ 8.74842362 -4.72168687]\n",
      " [ 1.01284247 -5.08249671]\n",
      " [ 3.13695054 -4.93795759]\n",
      " [ 3.01701575 -3.19088504]\n",
      " [ 8.44327014 -5.92267421]\n",
      " [ 5.99581346 -5.34909571]\n",
      " [ 1.7527552  -6.49016786]\n",
      " [ 6.93723339 -3.60423038]\n",
      " [ 4.90549055 -4.45156767]\n",
      " [ 2.12682409 -5.11692886]\n",
      " [ 1.12071881 -5.89289037]\n",
      " [ 2.84779705 -5.2768732 ]\n",
      " [ 4.01388247 -4.4220139 ]\n",
      " [ 4.80741397 -5.22705066]\n",
      " [ 2.09602729 -5.76270166]\n",
      " [ 4.54165268 -3.17394269]\n",
      " [ 9.55064145 -4.90537161]\n",
      " [ 8.7009979  -4.45914207]]\n"
     ]
    }
   ],
   "source": [
    "import numpy as np\n",
    "\n",
    "# Setting the number of points\n",
    "\n",
    "n = 100\n",
    "\n",
    "# Setting the center of the ellipse\n",
    "\n",
    "center_x = 5\n",
    "center_y = -5\n",
    "\n",
    "# Set the major and minor axis lengths\n",
    "\n",
    "a = 5\n",
    "b = 2.5\n",
    "\n",
    "# Generate points within the ellipse\n",
    "\n",
    "points = []\n",
    "while len(points) < n:\n",
    "    x = np.random.uniform(center_x - a, center_x + a)\n",
    "    y = np.random.uniform(center_y - b, center_y + b)\n",
    "    if (x - center_x)**2 / a**2 + (y - center_y)**2 / b**2 <= 1:\n",
    "        points.append([x, y])\n",
    "\n",
    "# Convert the points to a numpy array\n",
    "\n",
    "points = np.array(points)\n",
    "\n",
    "print(points)\n"
   ]
  },
  {
   "cell_type": "code",
   "execution_count": 1,
   "id": "988a9148",
   "metadata": {},
   "outputs": [
    {
     "data": {
      "image/png": "[encoded data removed]",
      "text/plain": [
       "<Figure size 640x480 with 1 Axes>"
      ]
     },
     "metadata": {},
     "output_type": "display_data"
    }
   ],
   "source": [
    "import numpy as np\n",
    "import matplotlib.pyplot as plt\n",
    "\n",
    "# Set the center and axis lengths of the ellipse\n",
    "center = [5, -5]\n",
    "a = 10\n",
    "b = 5\n",
    "\n",
    "# Generate 100 points within the ellipse\n",
    "n = 100\n",
    "theta = np.random.rand(n) * 2 * np.pi\n",
    "r = a * np.sqrt(np.random.rand(n))\n",
    "x = center[0] + r * np.cos(theta)\n",
    "y = center[1] + r * b / a * np.sin(theta)\n",
    "points = np.column_stack((x, y))\n",
    "\n",
    "# Plot the points\n",
    "plt.scatter(points[:, 0], points[:, 1])\n",
    "\n",
    "# Plot the ellipse using the plot function\n",
    "theta_grid = np.linspace(0, 2*np.pi, 100)\n",
    "x_ellipse = center[0] + a*np.cos(theta_grid)\n",
    "y_ellipse = center[1] + b*np.sin(theta_grid)\n",
    "plt.plot(x_ellipse, y_ellipse,'r', linewidth=2)\n",
    "\n",
    "# Show the plot\n",
    "plt.show()\n"
   ]
  },
  {
   "cell_type": "markdown",
   "id": "0170314a",
   "metadata": {},
   "source": [
    "Question 12"
   ]
  },
  {
   "cell_type": "code",
   "execution_count": 21,
   "id": "040fc7fe",
   "metadata": {},
   "outputs": [
    {
     "name": "stdout",
     "output_type": "stream",
     "text": [
      "c1 + c2 =  4 + 6j\n",
      "c1 - c2 =  -2 + -2j\n",
      "c1 * c2 =  -5 + 10j\n",
      "c1 / c2 =  0.44 + 0.08j\n",
      "|c1| =  2.23606797749979\n",
      "|c2| =  5.0\n",
      "∠c1 =  1.1071487177940904\n",
      "∠c2 =  0.9272952180016122\n"
     ]
    }
   ],
   "source": [
    "import math\n",
    "\n",
    "class ComplexNumber:\n",
    "    def __init__(self, a, b):\n",
    "        self.a = a\n",
    "        self.b = b\n",
    "\n",
    "    # Define a string representation of the complex number\n",
    "    def __str__(self):\n",
    "        return f\"{self.a} + {self.b}j\"\n",
    "    \n",
    "    # Define a method to calculate the conjugate of the complex number\n",
    "    def conjugate(self):\n",
    "        return ComplexNumber(self.a, -self.b)\n",
    "    \n",
    "    # Define a method to calculate the absolute value of the complex number\n",
    "    def absolute_value(self):\n",
    "        return math.sqrt(self.a**2 + self.b**2)\n",
    "    \n",
    "    # Define a method to add two complex numbers\n",
    "    def add(self, other):\n",
    "        return ComplexNumber(self.a + other.a, self.b + other.b)\n",
    "    \n",
    "    # Define a method to subtract two complex numbers\n",
    "    def subtract(self, other):\n",
    "        return ComplexNumber(self.a - other.a, self.b - other.b)\n",
    "    \n",
    "    # Define a method to multiply two complex numbers\n",
    "    def multiply(self, other):\n",
    "        return ComplexNumber(self.a*other.a - self.b*other.b, self.a*other.b + self.b*other.a)\n",
    "    \n",
    "    # Define a method to divide two complex numbers\n",
    "    def divide(self, other):\n",
    "        numerator = self.multiply(other.conjugate())\n",
    "        denominator = other.absolute_value()**2\n",
    "        return ComplexNumber(numerator.a/denominator, numerator.b/denominator)\n",
    "    \n",
    "    # Define a method to calculate the angle of the complex number\n",
    "    def angle(self):\n",
    "        return math.atan(self.b/self.a)\n",
    "\n",
    "c1 = ComplexNumber(1, 2)\n",
    "c2 = ComplexNumber(3, 4)\n",
    "\n",
    "print(\"c1 + c2 = \",c1.add(c2))\n",
    "print(\"c1 - c2 = \",c1.subtract(c2))\n",
    "print(\"c1 * c2 = \",c1.multiply(c2))\n",
    "print(\"c1 / c2 = \",c1.divide(c2))\n",
    "print(\"|c1| = \",c1.absolute_value())\n",
    "print(\"|c2| = \",c2.absolute_value())\n",
    "print(\"∠c1 = \",c1.angle())\n",
    "print(\"∠c2 = \",c2.angle())\n"
   ]
  },
  {
   "cell_type": "markdown",
   "id": "82a1d62c",
   "metadata": {},
   "source": [
    "The End"
   ]
  },
  {
   "cell_type": "code",
   "execution_count": null,
   "id": "e1bfd55f",
   "metadata": {},
   "outputs": [],
   "source": []
  }
 ],
 "metadata": {
  "kernelspec": {
   "display_name": "Python 3 (ipykernel)",
   "language": "python",
   "name": "python3"
  },
  "language_info": {
   "codemirror_mode": {
    "name": "ipython",
    "version": 3
   },
   "file_extension": ".py",
   "mimetype": "text/x-python",
   "name": "python",
   "nbconvert_exporter": "python",
   "pygments_lexer": "ipython3",
   "version": "3.9.12"
  }
 },
 "nbformat": 4,
 "nbformat_minor": 5
}
