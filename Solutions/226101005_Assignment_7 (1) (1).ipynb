{
  "cells": [
    {
      "cell_type": "markdown",
      "source": [
        "VISHAL KUMAR\n",
        "226101005 "
      ],
      "metadata": {}
    },
    {
      "cell_type": "code",
      "source": [
        "from keras.datasets import mnist\n",
        "import numpy as np\n",
        "from sklearn.decomposition import PCA\n",
        "from sklearn.neighbors import KDTree\n",
        "from sklearn.metrics import precision_score\n",
        "import pandas as pd\n",
        "import matplotlib.pyplot as plt\n",
        "import  numpy.linalg as la\n",
        "import cv2\n",
        "import os\n",
        "# from google.colab.patches import cv2_imshow\n",
        "\n",
        "def PCAandKDTree(d,ls,kvalue): \n",
        " (X_train, y_train), (X_test, y_test) = mnist.load_data()\n",
        "\n",
        " # Step 2: Reshape the data into 784*1 vector\n",
        " X_train = np.reshape(X_train, (X_train.shape[0], 784))\n",
        " X_test = np.reshape(X_test, (X_test.shape[0], 784))\n",
        "\n",
        " # Step 3: Apply PCA dimensionality reduction\n",
        " pca = PCA(n_components=d)\n",
        " X_train_pca = pca.fit_transform(X_train)\n",
        "\n",
        " # Construct a KD-Tree from the MNIST training data\n",
        " kdtree = KDTree(X_train_pca, leaf_size=ls)\n",
        "\n",
        " # Choose a random image from the test set\n",
        " query_image = X_test[np.random.randint(X_test.shape[0])]\n",
        "\n",
        " # Apply PCA dimensionality reduction to the query image\n",
        " query_image_pca = pca.transform(query_image.reshape(1, -1))\n",
        "\n",
        " # Perform a KD-Tree search for the 10 most similar images to the query image\n",
        " distances, indices = kdtree.query(query_image_pca, k=kvalue)\n",
        "\n",
        " # Get the corresponding labels for the similar images\n",
        " labels = y_train[indices[0]]\n",
        " import matplotlib.pyplot as plt\n",
        " \n",
        " plt.imshow(query_image.reshape(28, 28), cmap='gray')\n",
        " plt.title('Query Image')\n",
        " plt.axis('off')\n",
        " plt.show()\n",
        " \n",
        " fig, axes = plt.subplots(1, kvalue, figsize=(20, 2))\n",
        "\n",
        " for i, index in enumerate(indices[0]):\n",
        "    axes[i].imshow(X_train[index].reshape(28, 28), cmap='gray')\n",
        "    axes[i].set_title(f'Similar Image {i+1}')\n",
        "    axes[i].axis('off')\n",
        "\n",
        " plt.show()\n",
        " print(\"Query Image Label: \", y_test[np.argwhere(np.all(X_test == query_image, axis=1))[0][0]])\n",
        " c = 0\n",
        " for i, index in enumerate(indices[0]):\n",
        "     if ( y_test[np.argwhere(np.all(X_test == query_image, axis=1))[0][0]] ==  y_train[index]):\n",
        "       c = c+1\n",
        "     print(f\"Similar Image {i+1} Label: \", y_train[index])\n",
        "\n",
        " print(f\"Search Precision is :: {c/len(labels)}\")\n",
        "\n",
        "PCAandKDTree(100,30,10)"
      ],
      "outputs": [
        {
          "output_type": "stream",
          "name": "stderr",
          "text": "2023-04-02 18:38:50.829104: I tensorflow/core/platform/cpu_feature_guard.cc:193] This TensorFlow binary is optimized with oneAPI Deep Neural Network Library (oneDNN) to use the following CPU instructions in performance-critical operations:  AVX2 FMA\nTo enable them in other operations, rebuild TensorFlow with the appropriate compiler flags.\n2023-04-02 18:38:56.681999: W tensorflow/compiler/xla/stream_executor/platform/default/dso_loader.cc:64] Could not load dynamic library 'libcudart.so.11.0'; dlerror: libcudart.so.11.0: cannot open shared object file: No such file or directory\n2023-04-02 18:38:56.682071: I tensorflow/compiler/xla/stream_executor/cuda/cudart_stub.cc:29] Ignore above cudart dlerror if you do not have a GPU set up on your machine.\n2023-04-02 18:39:15.940363: W tensorflow/compiler/xla/stream_executor/platform/default/dso_loader.cc:64] Could not load dynamic library 'libnvinfer.so.7'; dlerror: libnvinfer.so.7: cannot open shared object file: No such file or directory\n2023-04-02 18:39:15.940861: W tensorflow/compiler/xla/stream_executor/platform/default/dso_loader.cc:64] Could not load dynamic library 'libnvinfer_plugin.so.7'; dlerror: libnvinfer_plugin.so.7: cannot open shared object file: No such file or directory\n2023-04-02 18:39:15.940898: W tensorflow/compiler/tf2tensorrt/utils/py_utils.cc:38] TF-TRT Warning: Cannot dlopen some TensorRT libraries. If you would like to use Nvidia GPU with TensorRT, please make sure the missing libraries mentioned above are installed properly.\n"
        },
        {
          "output_type": "display_data",
          "data": {
            "image/png": "[encoded data removed]",
            "text/plain": "<Figure size 640x480 with 1 Axes>"
          },
          "metadata": {}
        },
        {
          "output_type": "display_data",
          "data": {
            "image/png": "[encoded data removed]",
            "text/plain": "<Figure size 2000x200 with 10 Axes>"
          },
          "metadata": {}
        },
        {
          "output_type": "stream",
          "name": "stdout",
          "text": "Query Image Label:  7\nSimilar Image 1 Label:  7\nSimilar Image 2 Label:  7\nSimilar Image 3 Label:  7\nSimilar Image 4 Label:  7\nSimilar Image 5 Label:  7\nSimilar Image 6 Label:  7\nSimilar Image 7 Label:  7\nSimilar Image 8 Label:  7\nSimilar Image 9 Label:  7\nSimilar Image 10 Label:  7\nSearch Precision is :: 1.0\n"
        }
      ],
      "execution_count": 1,
      "metadata": {
        "colab": {
          "base_uri": "https://localhost:8080/",
          "height": 594
        },
        "id": "clmh9xlEHXqH",
        "outputId": "5a18abf6-40d0-4561-f026-0db566a3169e"
      }
    },
    {
      "cell_type": "code",
      "source": [
        "import cv2\n",
        "import os\n",
        "import numpy as np\n",
        "\n",
        "def load_images_from_folder(folder):\n",
        "    images = []\n",
        "    data = []\n",
        "    count = 1\n",
        "    list_images = sorted(os.listdir(folder))\n",
        "    for filename in list_images:\n",
        "        img = cv2.imread(os.path.join(folder,filename))\n",
        "        # Convert image to grayscale\n",
        "        img = cv2.cvtColor(img, cv2.COLOR_BGR2GRAY)\n",
        "        images.append(img)\n",
        "        \n",
        "        # Resize image to 50%\n",
        "        scale_percent = 50\n",
        "        width = int(img.shape[1] * scale_percent / 100)\n",
        "        height = int(img.shape[0] * scale_percent / 100)\n",
        "        dsize = (width, height)\n",
        "        img = cv2.resize(img, dsize)\n",
        "        \n",
        "        # Flatten image and append to data list\n",
        "        data.append(img.reshape(-1))\n",
        "        \n",
        "        count += 1\n",
        "    \n",
        "    # Convert images and data to numpy arrays\n",
        "    images = np.array(images)   \n",
        "    data = np.array(data)     \n",
        "    return images, data\n"
      ],
      "outputs": [],
      "execution_count": 3,
      "metadata": {}
    },
    {
      "cell_type": "code",
      "source": [
        "import numpy as np\n",
        "from numpy import linalg as la\n",
        "\n",
        "def Spherical_K_Means(K, data, tol):\n",
        "    # Initialize the labels randomly\n",
        "    labels = np.random.choice(np.arange(K), len(data), replace=True)\n",
        "    print(len(labels))\n",
        "    all_unique_labels = np.unique(labels, return_counts=True)\n",
        "    print(all_unique_labels)\n",
        "\n",
        "    # Check if all unique labels are present\n",
        "    if len(all_unique_labels[0]) != K:\n",
        "        print(\"All unique labels not present.\")\n",
        "        return \n",
        "\n",
        "    mean = []\n",
        "    # Calculate the mean vector for each cluster\n",
        "    for i in range(K):\n",
        "        mean.append(np.mean(data[np.argwhere(labels == i)], axis=0).reshape(-1))\n",
        "    mean = np.array(mean)\n",
        "    #print(mean.shape)\n",
        "    # Calculate the length of each mean vector\n",
        "    length = la.norm(mean, axis=1)\n",
        "\n",
        "    # Normalize the mean vectors\n",
        "    for i, mean_vector in enumerate(mean):\n",
        "        mean[i] = mean_vector / length[i]\n",
        "\n",
        "    # Initialize the previous mean vector\n",
        "    pre_mean = np.zeros(shape=mean.shape)\n",
        "\n",
        "    # Loop until the convergence criteria is met\n",
        "    while min(np.sum(mean*pre_mean, axis=1)) < (1 - tol):\n",
        "        pre_mean = np.copy(mean)\n",
        "\n",
        "        # Update the labels of each datapoint\n",
        "        for i in range(len(data)):\n",
        "            labels[i] = np.argmax(np.sum(data[i] * pre_mean, axis=1))\n",
        "\n",
        "        # Calculate the mean vector for each cluster\n",
        "        mean = []\n",
        "        for i in range(K):\n",
        "            mean.append(np.mean(data[np.argwhere(labels == i)], axis=0).reshape(-1))\n",
        "        mean = np.array(mean)\n",
        "\n",
        "        # Calculate the length of each mean vector\n",
        "        length = la.norm(mean, axis=1)\n",
        "\n",
        "        # Normalize the mean vectors\n",
        "        for i, mean_vector in enumerate(mean):\n",
        "            mean[i] = mean_vector / length[i]\n",
        "\n",
        "        print(min(np.sum(mean*pre_mean, axis=1)))\n",
        "\n",
        "    return mean, labels\n"
      ],
      "outputs": [],
      "execution_count": 6,
      "metadata": {
        "id": "CgEgGGTANpnR"
      }
    },
    {
      "cell_type": "code",
      "source": [
        "\n",
        "images,data = load_images_from_folder('faces/')\n",
        "print(\"Data shape : \",data.shape)\n",
        "print(\"Image shape : \",images.shape)"
      ],
      "outputs": [
        {
          "output_type": "stream",
          "name": "stdout",
          "text": "Data shape :  (165, 5270)\nImage shape :  (165, 170, 125)\n"
        }
      ],
      "execution_count": 7,
      "metadata": {
        "colab": {
          "base_uri": "https://localhost:8080/"
        },
        "id": "YYSe3ItDNqTA",
        "outputId": "eb1f9408-bf55-403b-9d7f-613456328700"
      }
    },
    {
      "cell_type": "code",
      "source": [
        "lengths = la.norm(data,axis = 1)\n",
        "data = data.astype(float)\n",
        "for i in range(len(data)):\n",
        "    data[i] = data[i]/lengths[i]"
      ],
      "outputs": [],
      "execution_count": 8,
      "metadata": {
        "id": "lgGeXaQCNvrr"
      }
    },
    {
      "cell_type": "code",
      "source": [
        "means,labels = Spherical_K_Means(15,data,10**-8)\n",
        "print(means.shape)"
      ],
      "outputs": [
        {
          "output_type": "stream",
          "name": "stdout",
          "text": "165\n(array([ 0,  1,  2,  3,  4,  5,  6,  7,  8,  9, 10, 11, 12, 13, 14]), array([15,  8,  9, 10, 14, 10, 15, 14, 10,  6,  9, 13, 11,  9, 12]))\n0.9176832844549911\n0.9619417634772665\n0.9922087274209732\n0.9986322114191379\n0.9999999999999998\n(15, 5270)\n"
        }
      ],
      "execution_count": 9,
      "metadata": {
        "colab": {
          "base_uri": "https://localhost:8080/"
        },
        "id": "4Xglf2JfNxoc",
        "outputId": "24f40dcf-8c29-4463-9ef7-483f3949cdd0"
      }
    },
    {
      "cell_type": "code",
      "source": [],
      "outputs": [],
      "execution_count": null,
      "metadata": {}
    }
  ],
  "metadata": {
    "colab": {
      "provenance": []
    },
    "kernelspec": {
      "name": "python",
      "language": "python",
      "display_name": "Pyolite (preview)"
    },
    "language_info": {
      "codemirror_mode": {
        "name": "python",
        "version": 3
      },
      "file_extension": ".py",
      "mimetype": "text/x-python",
      "name": "python",
      "nbconvert_exporter": "python",
      "pygments_lexer": "ipython3",
      "version": "3.8"
    },
    "kernel_info": {
      "name": "python"
    },
    "nteract": {
      "version": "nteract-front-end@1.0.0"
    }
  },
  "nbformat": 4,
  "nbformat_minor": 1
}